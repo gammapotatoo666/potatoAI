{
  "nbformat": 4,
  "nbformat_minor": 0,
  "metadata": {
    "colab": {
      "provenance": []
    },
    "kernelspec": {
      "name": "python3",
      "display_name": "Python 3"
    },
    "language_info": {
      "name": "python"
    }
  },
  "cells": [
    {
      "cell_type": "code",
      "source": [
        "!pip install --upgrade yt-dlp"
      ],
      "metadata": {
        "collapsed": true,
        "id": "CoMqjQ7J4yds"
      },
      "execution_count": null,
      "outputs": []
    },
    {
      "cell_type": "code",
      "source": [
        "!yt-dlp --version\n"
      ],
      "metadata": {
        "id": "pY6iKLRjMxwp"
      },
      "execution_count": null,
      "outputs": []
    },
    {
      "cell_type": "code",
      "source": [
        "!apt update\n",
        "!apt install ffmpeg\n",
        "!ffmpeg -version"
      ],
      "metadata": {
        "id": "O2q0cCbcOSRp"
      },
      "execution_count": null,
      "outputs": []
    },
    {
      "cell_type": "code",
      "source": [
        "import os\n",
        "import re\n",
        "import tempfile\n",
        "import numpy as np\n",
        "import torch\n",
        "import torch.nn as nn\n",
        "import torch.optim as optim\n",
        "from sklearn.metrics import precision_score, recall_score, f1_score\n",
        "from torch.utils.data import DataLoader, TensorDataset\n",
        "from sklearn.model_selection import train_test_split\n",
        "from sklearn.preprocessing import LabelEncoder\n",
        "from collections import Counter\n",
        "import json\n",
        "import librosa\n",
        "import yt_dlp\n",
        "from yt_dlp import YoutubeDL"
      ],
      "metadata": {
        "id": "WIHDfCBPNquZ"
      },
      "execution_count": 4,
      "outputs": []
    },
    {
      "cell_type": "code",
      "execution_count": 5,
      "metadata": {
        "colab": {
          "base_uri": "https://localhost:8080/"
        },
        "id": "AEyq-57S5_nC",
        "outputId": "3418e14e-c53a-4a07-bc80-593af76c85eb"
      },
      "outputs": [
        {
          "output_type": "stream",
          "name": "stdout",
          "text": []
        },
        {
          "output_type": "stream",
          "name": "stderr",
          "text": [
            "ERROR: [youtube] ErhvSbJZ6mg: Video unavailable\n"
          ]
        },
        {
          "output_type": "stream",
          "name": "stdout",
          "text": [
            "Ошибка при загрузке аудио https://www.youtube.com/watch?v=ErhvSbJZ6mg: ERROR: [youtube] ErhvSbJZ6mg: Video unavailable\n",
            "Не удалось загрузить аудио по ссылке: https://www.youtube.com/embed/ErhvSbJZ6mg\n"
          ]
        },
        {
          "output_type": "stream",
          "name": "stderr",
          "text": [
            "ERROR: [youtube] DvaCfRWskRE: Video unavailable\n"
          ]
        },
        {
          "output_type": "stream",
          "name": "stdout",
          "text": [
            "Ошибка при загрузке аудио https://www.youtube.com/watch?v=DvaCfRWskRE: ERROR: [youtube] DvaCfRWskRE: Video unavailable\n",
            "Не удалось загрузить аудио по ссылке: https://www.youtube.com/embed/DvaCfRWskRE\n"
          ]
        },
        {
          "output_type": "stream",
          "name": "stderr",
          "text": [
            "ERROR: [youtube] cPEFskCrdhQ: Video unavailable\n"
          ]
        },
        {
          "output_type": "stream",
          "name": "stdout",
          "text": [
            "Ошибка при загрузке аудио https://www.youtube.com/watch?v=cPEFskCrdhQ: ERROR: [youtube] cPEFskCrdhQ: Video unavailable\n",
            "Не удалось загрузить аудио по ссылке: https://www.youtube.com/embed/cPEFskCrdhQ\n"
          ]
        },
        {
          "output_type": "stream",
          "name": "stderr",
          "text": [
            "ERROR: [youtube] WE9j6r3s7OY: Private video. Sign in if you've been granted access to this video. Use --cookies-from-browser or --cookies for the authentication. See  https://github.com/yt-dlp/yt-dlp/wiki/FAQ#how-do-i-pass-cookies-to-yt-dlp  for how to manually pass cookies. Also see  https://github.com/yt-dlp/yt-dlp/wiki/Extractors#exporting-youtube-cookies  for tips on effectively exporting YouTube cookies\n"
          ]
        },
        {
          "output_type": "stream",
          "name": "stdout",
          "text": [
            "Ошибка при загрузке аудио https://www.youtube.com/watch?v=WE9j6r3s7OY: ERROR: [youtube] WE9j6r3s7OY: Private video. Sign in if you've been granted access to this video. Use --cookies-from-browser or --cookies for the authentication. See  https://github.com/yt-dlp/yt-dlp/wiki/FAQ#how-do-i-pass-cookies-to-yt-dlp  for how to manually pass cookies. Also see  https://github.com/yt-dlp/yt-dlp/wiki/Extractors#exporting-youtube-cookies  for tips on effectively exporting YouTube cookies\n",
            "Не удалось загрузить аудио по ссылке: https://www.youtube.com/embed/WE9j6r3s7OY\n"
          ]
        },
        {
          "output_type": "stream",
          "name": "stderr",
          "text": [
            "ERROR: [youtube] EWrpjhOtuss: Private video. Sign in if you've been granted access to this video. Use --cookies-from-browser or --cookies for the authentication. See  https://github.com/yt-dlp/yt-dlp/wiki/FAQ#how-do-i-pass-cookies-to-yt-dlp  for how to manually pass cookies. Also see  https://github.com/yt-dlp/yt-dlp/wiki/Extractors#exporting-youtube-cookies  for tips on effectively exporting YouTube cookies\n"
          ]
        },
        {
          "output_type": "stream",
          "name": "stdout",
          "text": [
            "Ошибка при загрузке аудио https://www.youtube.com/watch?v=EWrpjhOtuss: ERROR: [youtube] EWrpjhOtuss: Private video. Sign in if you've been granted access to this video. Use --cookies-from-browser or --cookies for the authentication. See  https://github.com/yt-dlp/yt-dlp/wiki/FAQ#how-do-i-pass-cookies-to-yt-dlp  for how to manually pass cookies. Also see  https://github.com/yt-dlp/yt-dlp/wiki/Extractors#exporting-youtube-cookies  for tips on effectively exporting YouTube cookies\n",
            "Не удалось загрузить аудио по ссылке: https://www.youtube.com/embed/EWrpjhOtuss\n"
          ]
        },
        {
          "output_type": "stream",
          "name": "stderr",
          "text": [
            "ERROR: [youtube] WlV0MTSuzOk: Video unavailable\n"
          ]
        },
        {
          "output_type": "stream",
          "name": "stdout",
          "text": [
            "Ошибка при загрузке аудио https://www.youtube.com/watch?v=WlV0MTSuzOk: ERROR: [youtube] WlV0MTSuzOk: Video unavailable\n",
            "Не удалось загрузить аудио по ссылке: https://www.youtube.com/embed/WlV0MTSuzOk\n"
          ]
        },
        {
          "output_type": "stream",
          "name": "stderr",
          "text": [
            "ERROR: [youtube] 1lip9rOA79c: Video unavailable. This video is no longer available because the YouTube account associated with this video has been terminated.\n"
          ]
        },
        {
          "output_type": "stream",
          "name": "stdout",
          "text": [
            "Ошибка при загрузке аудио https://www.youtube.com/watch?v=1lip9rOA79c: ERROR: [youtube] 1lip9rOA79c: Video unavailable. This video is no longer available because the YouTube account associated with this video has been terminated.\n",
            "Не удалось загрузить аудио по ссылке: https://www.youtube.com/embed/1lip9rOA79c\n"
          ]
        },
        {
          "output_type": "stream",
          "name": "stderr",
          "text": [
            "ERROR: [youtube] U-s6EYzqjmA: Private video. Sign in if you've been granted access to this video. Use --cookies-from-browser or --cookies for the authentication. See  https://github.com/yt-dlp/yt-dlp/wiki/FAQ#how-do-i-pass-cookies-to-yt-dlp  for how to manually pass cookies. Also see  https://github.com/yt-dlp/yt-dlp/wiki/Extractors#exporting-youtube-cookies  for tips on effectively exporting YouTube cookies\n"
          ]
        },
        {
          "output_type": "stream",
          "name": "stdout",
          "text": [
            "Ошибка при загрузке аудио https://www.youtube.com/watch?v=U-s6EYzqjmA: ERROR: [youtube] U-s6EYzqjmA: Private video. Sign in if you've been granted access to this video. Use --cookies-from-browser or --cookies for the authentication. See  https://github.com/yt-dlp/yt-dlp/wiki/FAQ#how-do-i-pass-cookies-to-yt-dlp  for how to manually pass cookies. Also see  https://github.com/yt-dlp/yt-dlp/wiki/Extractors#exporting-youtube-cookies  for tips on effectively exporting YouTube cookies\n",
            "Не удалось загрузить аудио по ссылке: https://www.youtube.com/embed/U-s6EYzqjmA\n"
          ]
        },
        {
          "output_type": "stream",
          "name": "stderr",
          "text": [
            "ERROR: [youtube] KcmZK7_oMIk: Video unavailable\n"
          ]
        },
        {
          "output_type": "stream",
          "name": "stdout",
          "text": [
            "Ошибка при загрузке аудио https://www.youtube.com/watch?v=KcmZK7_oMIk: ERROR: [youtube] KcmZK7_oMIk: Video unavailable\n",
            "Не удалось загрузить аудио по ссылке: https://www.youtube.com/embed/KcmZK7_oMIk\n",
            "Распределение меток: Counter({10: 10, 84: 7, 104: 6, 170: 6, 93: 5, 142: 5, 166: 5, 67: 5, 77: 4, 26: 4, 18: 4, 112: 3, 134: 3, 5: 3, 56: 3, 96: 3, 156: 3, 115: 3, 50: 3, 111: 3, 157: 3, 44: 2, 81: 2, 149: 2, 47: 2, 91: 2})\n",
            "Epoch 1/15, Loss: 98.4587173461914\n",
            "Epoch 2/15, Loss: 101.24079132080078\n",
            "Epoch 3/15, Loss: 85.41593170166016\n",
            "Epoch 4/15, Loss: 73.80070495605469\n",
            "Epoch 5/15, Loss: 63.77655029296875\n",
            "Epoch 6/15, Loss: 75.37283325195312\n",
            "Epoch 7/15, Loss: 67.14269256591797\n",
            "Epoch 8/15, Loss: 48.4975700378418\n",
            "Epoch 9/15, Loss: 64.2437515258789\n",
            "Epoch 10/15, Loss: 24.476423263549805\n",
            "Epoch 11/15, Loss: 39.66626739501953\n",
            "Epoch 12/15, Loss: 44.492942810058594\n",
            "Epoch 13/15, Loss: 28.333984375\n",
            "Epoch 14/15, Loss: 24.276256561279297\n",
            "Epoch 15/15, Loss: 28.160505294799805\n",
            "Precision: 0.2159\n",
            "Recall: 0.2857\n",
            "F1-Score: 0.2302\n"
          ]
        },
        {
          "output_type": "stream",
          "name": "stderr",
          "text": [
            "/usr/local/lib/python3.11/dist-packages/sklearn/metrics/_classification.py:1565: UndefinedMetricWarning: Precision is ill-defined and being set to 0.0 in labels with no predicted samples. Use `zero_division` parameter to control this behavior.\n",
            "  _warn_prf(average, modifier, f\"{metric.capitalize()} is\", len(result))\n",
            "/usr/local/lib/python3.11/dist-packages/sklearn/metrics/_classification.py:1565: UndefinedMetricWarning: Recall is ill-defined and being set to 0.0 in labels with no true samples. Use `zero_division` parameter to control this behavior.\n",
            "  _warn_prf(average, modifier, f\"{metric.capitalize()} is\", len(result))\n"
          ]
        }
      ],
      "source": [
        "# Функция для преобразования embed-ссылки в обычную\n",
        "def convert_embed_to_watch_url(embed_url):\n",
        "    \"\"\"\n",
        "    Преобразует ссылку формата embed в обычную ссылку на YouTube.\n",
        "    \"\"\"\n",
        "    if \"embed/\" in embed_url:\n",
        "        video_id = embed_url.split(\"embed/\")[-1]\n",
        "        return f\"https://www.youtube.com/watch?v={video_id}\"\n",
        "    return embed_url\n",
        "\n",
        "# Функция для проверки корректности ссылки на YouTube\n",
        "def is_valid_youtube_url(url):\n",
        "    \"\"\"\n",
        "    Проверяет, является ли ссылка корректной ссылкой на YouTube.\n",
        "    \"\"\"\n",
        "    pattern = r\"(?:v=|\\/)([0-9A-Za-z_-]{11})\"\n",
        "    match = re.search(pattern, url)\n",
        "    return match is not None\n",
        "\n",
        "# Функция для загрузки аудио\n",
        "def download_audio(url):\n",
        "    try:\n",
        "        regular_url = convert_embed_to_watch_url(url)\n",
        "        if not regular_url:\n",
        "            print(f\"Некорректная ссылка на YouTube: {url}\")\n",
        "            return None\n",
        "\n",
        "        with tempfile.NamedTemporaryFile(delete=False, suffix=\".mp3\") as tmp_file:\n",
        "            tmp_file_path = 'output_audio.mp3'\n",
        "            tmp_file.close()  # Закрываем файл перед использованием\n",
        "\n",
        "        ydl_opts = {\n",
        "          'format': 'bestaudio/best',\n",
        "          'outtmpl': 'output_audio.%(ext)s',\n",
        "          'postprocessors': [{\n",
        "          'key': 'FFmpegExtractAudio',\n",
        "          'preferredcodec': 'mp3',\n",
        "          'preferredquality': '192',\n",
        "        }],\n",
        "        'quiet': True,\n",
        "        }\n",
        "\n",
        "\n",
        "        with yt_dlp.YoutubeDL(ydl_opts) as ydl:\n",
        "            ydl.download([regular_url])\n",
        "\n",
        "        if not os.path.exists(tmp_file_path) or os.path.getsize(tmp_file_path) == 0:\n",
        "            print(f\"Файл аудио не был создан или пуст: {tmp_file_path}\")\n",
        "            os.remove(tmp_file_path)\n",
        "            return None\n",
        "\n",
        "        return tmp_file_path\n",
        "\n",
        "    except Exception as e:\n",
        "        print(f\"Ошибка при загрузке аудио {regular_url}: {e}\")\n",
        "        return None\n",
        "\n",
        "# Функция для извлечения Mel Spectrogram из аудио\n",
        "def extract_mel_spectrogram(audio_path, n_mels=128, target_length=128):\n",
        "    try:\n",
        "        y, sr = librosa.load(audio_path, sr=None)\n",
        "\n",
        "        # Проверка минимальной длины аудио\n",
        "        if len(y) < target_length:\n",
        "            print(f\"Аудио слишком короткое: {audio_path}\")\n",
        "            return None\n",
        "\n",
        "        mel_spectrogram = librosa.feature.melspectrogram(y=y, sr=sr, n_mels=n_mels)\n",
        "        mel_spectrogram_db = librosa.power_to_db(mel_spectrogram, ref=np.max)\n",
        "\n",
        "        if mel_spectrogram_db.shape[1] < target_length:\n",
        "            padding = np.zeros((n_mels, target_length - mel_spectrogram_db.shape[1]))\n",
        "            mel_spectrogram_db = np.hstack((mel_spectrogram_db, padding))\n",
        "        else:\n",
        "            mel_spectrogram_db = mel_spectrogram_db[:, :target_length]\n",
        "\n",
        "        return mel_spectrogram_db\n",
        "\n",
        "    except Exception as e:\n",
        "        print(f\"Ошибка при извлечении Mel Spectrogram: {e}\")\n",
        "        return None\n",
        "\n",
        "# Определение модели классификации\n",
        "class AudioClassifier(nn.Module):\n",
        "    def __init__(self, input_size, num_classes):\n",
        "        super(AudioClassifier, self).__init__()\n",
        "        self.fc1 = nn.Linear(input_size, 512)\n",
        "        self.fc2 = nn.Linear(512, num_classes)\n",
        "        self.relu = nn.ReLU()\n",
        "\n",
        "    def forward(self, x):\n",
        "        x = self.relu(self.fc1(x))\n",
        "        x = self.fc2(x)\n",
        "        return x\n",
        "\n",
        "# Основной процесс\n",
        "if __name__ == \"__main__\":\n",
        "    # Параметры\n",
        "    n_mels = 128  # Количество Mel-полос\n",
        "    target_length = 128  # Фиксированная длина Mel Spectrogram\n",
        "    json_path = \"/content/COIN.json\"\n",
        "    max_audios_to_process = 100  # Ограничение количества аудио для обработки\n",
        "\n",
        "    # Загрузка JSON-файла\n",
        "    with open(json_path, \"r\") as f:\n",
        "        data = json.load(f)\n",
        "\n",
        "    database = data[\"database\"]\n",
        "\n",
        "    # Преобразование строковых категорий в числовые метки\n",
        "    label_encoder = LabelEncoder()\n",
        "    all_classes = [video_info[\"class\"] for video_info in database.values()]\n",
        "    label_encoder.fit(all_classes)\n",
        "    num_classes = len(label_encoder.classes_)  # Количество уникальных классов\n",
        "\n",
        "    # Сбор данных\n",
        "    X = []\n",
        "    y = []\n",
        "\n",
        "    for video_id, video_info in database.items():\n",
        "        if len(X) >= max_audios_to_process:\n",
        "            break\n",
        "\n",
        "        video_url = video_info[\"video_url\"]\n",
        "        video_class = video_info[\"class\"]\n",
        "        annotations = video_info[\"annotation\"]\n",
        "\n",
        "        if not is_valid_youtube_url(video_url):\n",
        "            print(f\"Некорректная ссылка на YouTube: {video_url}\")\n",
        "            continue\n",
        "\n",
        "        audio_path = download_audio(video_url)\n",
        "        if audio_path is None:\n",
        "            print(f\"Не удалось загрузить аудио по ссылке: {video_url}\")\n",
        "            continue\n",
        "\n",
        "        for annotation in annotations:\n",
        "            start_time, end_time = annotation[\"segment\"]\n",
        "            label = annotation[\"label\"]\n",
        "\n",
        "            mel_spectrogram = extract_mel_spectrogram(audio_path, n_mels=n_mels, target_length=target_length)\n",
        "            if mel_spectrogram is None:\n",
        "                print(f\"Не удалось извлечь Mel Spectrogram из сегмента аудио: {video_url}\")\n",
        "                continue\n",
        "\n",
        "            X.append(mel_spectrogram.flatten())\n",
        "            y.append(video_class)\n",
        "\n",
        "        os.remove(audio_path)\n",
        "\n",
        "    if not X:\n",
        "        raise ValueError(\"Нет данных для обучения. Проверьте аудиофайлы и их обработку.\")\n",
        "\n",
        "    X = torch.tensor(np.array(X), dtype=torch.float32)\n",
        "    y = torch.tensor(label_encoder.transform(y), dtype=torch.long)\n",
        "\n",
        "    print(\"Распределение меток:\", Counter(y.numpy()))\n",
        "\n",
        "    X_train, X_test, y_train, y_test = train_test_split(X, y, test_size=0.2, random_state=42)\n",
        "\n",
        "    train_dataset = TensorDataset(X_train, y_train)\n",
        "    test_dataset = TensorDataset(X_test, y_test)\n",
        "    train_loader = DataLoader(train_dataset, batch_size=32, shuffle=True)\n",
        "    test_loader = DataLoader(test_dataset, batch_size=32, shuffle=False)\n",
        "\n",
        "    input_size = n_mels * target_length\n",
        "    model = AudioClassifier(input_size=input_size, num_classes=num_classes)\n",
        "\n",
        "    criterion = nn.CrossEntropyLoss()\n",
        "    optimizer = optim.Adam(model.parameters(), lr=0.0001, weight_decay=1e-5)\n",
        "\n",
        "    num_epochs = 15\n",
        "    for epoch in range(num_epochs):\n",
        "        model.train()\n",
        "        for inputs, labels in train_loader:\n",
        "            optimizer.zero_grad()\n",
        "            outputs = model(inputs)\n",
        "            loss = criterion(outputs, labels)\n",
        "            loss.backward()\n",
        "            optimizer.step()\n",
        "        print(f'Epoch {epoch+1}/{num_epochs}, Loss: {loss.item()}')\n",
        "\n",
        "    model.eval()\n",
        "    y_true = []\n",
        "    y_pred = []\n",
        "    with torch.no_grad():\n",
        "        for inputs, labels in test_loader:\n",
        "            outputs = model(inputs)\n",
        "            _, predicted = torch.max(outputs, 1)\n",
        "            y_true.extend(labels.numpy())\n",
        "            y_pred.extend(predicted.numpy())\n",
        "\n",
        "    y_true_labels = label_encoder.inverse_transform(y_true)\n",
        "    y_pred_labels = label_encoder.inverse_transform(y_pred)\n",
        "\n",
        "    precision = precision_score(y_true, y_pred, average='weighted')\n",
        "    recall = recall_score(y_true, y_pred, average='weighted')\n",
        "    f1 = f1_score(y_true, y_pred, average='weighted')\n",
        "\n",
        "    print(f'Precision: {precision:.4f}')\n",
        "    print(f'Recall: {recall:.4f}')\n",
        "    print(f'F1-Score: {f1:.4f}')"
      ]
    }
  ]
}